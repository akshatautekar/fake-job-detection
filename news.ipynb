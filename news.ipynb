{
 "cells": [
  {
   "cell_type": "code",
   "execution_count": 1,
   "id": "a2856930",
   "metadata": {},
   "outputs": [
    {
     "name": "stdout",
     "output_type": "stream",
     "text": [
      "Requirement already satisfied: requests in c:\\users\\utekar\\appdata\\local\\programs\\python\\python39\\lib\\site-packages (2.26.0)\n",
      "Requirement already satisfied: charset-normalizer~=2.0.0 in c:\\users\\utekar\\appdata\\local\\programs\\python\\python39\\lib\\site-packages (from requests) (2.0.1)\n",
      "Requirement already satisfied: urllib3<1.27,>=1.21.1 in c:\\users\\utekar\\appdata\\local\\programs\\python\\python39\\lib\\site-packages (from requests) (1.26.6)\n",
      "Requirement already satisfied: idna<4,>=2.5 in c:\\users\\utekar\\appdata\\local\\programs\\python\\python39\\lib\\site-packages (from requests) (3.2)\n",
      "Requirement already satisfied: certifi>=2017.4.17 in c:\\users\\utekar\\appdata\\local\\programs\\python\\python39\\lib\\site-packages (from requests) (2021.5.30)\n"
     ]
    }
   ],
   "source": [
    "!pip install requests"
   ]
  },
  {
   "cell_type": "code",
   "execution_count": 2,
   "id": "9acaed0a",
   "metadata": {},
   "outputs": [
    {
     "name": "stdout",
     "output_type": "stream",
     "text": [
      "Collecting newsapi-python\n",
      "  Downloading newsapi_python-0.2.6-py2.py3-none-any.whl (7.9 kB)\n",
      "Requirement already satisfied: requests<3.0.0 in c:\\users\\utekar\\appdata\\local\\programs\\python\\python39\\lib\\site-packages (from newsapi-python) (2.26.0)\n",
      "Requirement already satisfied: charset-normalizer~=2.0.0 in c:\\users\\utekar\\appdata\\local\\programs\\python\\python39\\lib\\site-packages (from requests<3.0.0->newsapi-python) (2.0.1)\n",
      "Requirement already satisfied: idna<4,>=2.5 in c:\\users\\utekar\\appdata\\local\\programs\\python\\python39\\lib\\site-packages (from requests<3.0.0->newsapi-python) (3.2)\n",
      "Requirement already satisfied: urllib3<1.27,>=1.21.1 in c:\\users\\utekar\\appdata\\local\\programs\\python\\python39\\lib\\site-packages (from requests<3.0.0->newsapi-python) (1.26.6)\n",
      "Requirement already satisfied: certifi>=2017.4.17 in c:\\users\\utekar\\appdata\\local\\programs\\python\\python39\\lib\\site-packages (from requests<3.0.0->newsapi-python) (2021.5.30)\n",
      "Installing collected packages: newsapi-python\n",
      "Successfully installed newsapi-python-0.2.6\n"
     ]
    }
   ],
   "source": [
    "!pip install newsapi-python"
   ]
  },
  {
   "cell_type": "code",
   "execution_count": 3,
   "id": "dc36b586",
   "metadata": {},
   "outputs": [
    {
     "name": "stdout",
     "output_type": "stream",
     "text": [
      "Collecting pycountry\n",
      "  Downloading pycountry-22.1.10.tar.gz (10.1 MB)\n",
      "  Preparing metadata (setup.py): started\n",
      "  Preparing metadata (setup.py): finished with status 'done'\n",
      "Requirement already satisfied: setuptools in c:\\users\\utekar\\appdata\\local\\programs\\python\\python39\\lib\\site-packages (from pycountry) (56.0.0)\n",
      "Building wheels for collected packages: pycountry\n",
      "  Building wheel for pycountry (setup.py): started\n",
      "  Building wheel for pycountry (setup.py): finished with status 'done'\n",
      "  Created wheel for pycountry: filename=pycountry-22.1.10-py2.py3-none-any.whl size=10595766 sha256=eb1608ed4d5c0dda278299d003afc79d2e3d43ce540ee71cc14bec4bf2cbfc98\n",
      "  Stored in directory: c:\\users\\utekar\\appdata\\local\\pip\\cache\\wheels\\20\\6c\\4d\\c500e79bca42ee1156b1d3e801b4e6d4cbdac1afed3f1fd836\n",
      "Successfully built pycountry\n",
      "Installing collected packages: pycountry\n",
      "Successfully installed pycountry-22.1.10\n"
     ]
    }
   ],
   "source": [
    "!pip install pycountry"
   ]
  },
  {
   "cell_type": "code",
   "execution_count": 1,
   "id": "e33e9c9d",
   "metadata": {},
   "outputs": [],
   "source": [
    "from newsapi import NewsApiClient"
   ]
  },
  {
   "cell_type": "code",
   "execution_count": 2,
   "id": "b60d6088",
   "metadata": {},
   "outputs": [],
   "source": [
    "newsapi = NewsApiClient(api_key='3c7c738526b749e296576fd737206ba2')"
   ]
  },
  {
   "cell_type": "code",
   "execution_count": 5,
   "id": "09fe4532",
   "metadata": {},
   "outputs": [
    {
     "ename": "ValueError",
     "evalue": "cannot mix country/category param with sources param.",
     "output_type": "error",
     "traceback": [
      "\u001b[1;31m---------------------------------------------------------------------------\u001b[0m",
      "\u001b[1;31mValueError\u001b[0m                                Traceback (most recent call last)",
      "\u001b[1;32m~\\AppData\\Local\\Temp/ipykernel_4752/2160527100.py\u001b[0m in \u001b[0;36m<module>\u001b[1;34m\u001b[0m\n\u001b[1;32m----> 1\u001b[1;33m top_headlines = newsapi.get_top_headlines(q='bitcoin',\n\u001b[0m\u001b[0;32m      2\u001b[0m                                           \u001b[0msources\u001b[0m\u001b[1;33m=\u001b[0m\u001b[1;34m'bbc-news,the-verge'\u001b[0m\u001b[1;33m,\u001b[0m\u001b[1;33m\u001b[0m\u001b[1;33m\u001b[0m\u001b[0m\n\u001b[0;32m      3\u001b[0m                                           \u001b[0mcategory\u001b[0m\u001b[1;33m=\u001b[0m\u001b[1;34m'business'\u001b[0m\u001b[1;33m,\u001b[0m\u001b[1;33m\u001b[0m\u001b[1;33m\u001b[0m\u001b[0m\n\u001b[0;32m      4\u001b[0m                                           \u001b[0mlanguage\u001b[0m\u001b[1;33m=\u001b[0m\u001b[1;34m'en'\u001b[0m\u001b[1;33m,\u001b[0m\u001b[1;33m\u001b[0m\u001b[1;33m\u001b[0m\u001b[0m\n\u001b[0;32m      5\u001b[0m                                           country='us')\n",
      "\u001b[1;32mc:\\users\\utekar\\appdata\\local\\programs\\python\\python39\\lib\\site-packages\\newsapi\\newsapi_client.py\u001b[0m in \u001b[0;36mget_top_headlines\u001b[1;34m(self, q, qintitle, sources, language, country, category, page_size, page)\u001b[0m\n\u001b[0;32m    103\u001b[0m         \u001b[1;31m# Sources\u001b[0m\u001b[1;33m\u001b[0m\u001b[1;33m\u001b[0m\u001b[1;33m\u001b[0m\u001b[0m\n\u001b[0;32m    104\u001b[0m         \u001b[1;32mif\u001b[0m \u001b[1;33m(\u001b[0m\u001b[0msources\u001b[0m \u001b[1;32mis\u001b[0m \u001b[1;32mnot\u001b[0m \u001b[1;32mNone\u001b[0m\u001b[1;33m)\u001b[0m \u001b[1;32mand\u001b[0m \u001b[1;33m(\u001b[0m\u001b[1;33m(\u001b[0m\u001b[0mcountry\u001b[0m \u001b[1;32mis\u001b[0m \u001b[1;32mnot\u001b[0m \u001b[1;32mNone\u001b[0m\u001b[1;33m)\u001b[0m \u001b[1;32mor\u001b[0m \u001b[1;33m(\u001b[0m\u001b[0mcategory\u001b[0m \u001b[1;32mis\u001b[0m \u001b[1;32mnot\u001b[0m \u001b[1;32mNone\u001b[0m\u001b[1;33m)\u001b[0m\u001b[1;33m)\u001b[0m\u001b[1;33m:\u001b[0m\u001b[1;33m\u001b[0m\u001b[1;33m\u001b[0m\u001b[0m\n\u001b[1;32m--> 105\u001b[1;33m             \u001b[1;32mraise\u001b[0m \u001b[0mValueError\u001b[0m\u001b[1;33m(\u001b[0m\u001b[1;34m\"cannot mix country/category param with sources param.\"\u001b[0m\u001b[1;33m)\u001b[0m\u001b[1;33m\u001b[0m\u001b[1;33m\u001b[0m\u001b[0m\n\u001b[0m\u001b[0;32m    106\u001b[0m \u001b[1;33m\u001b[0m\u001b[0m\n\u001b[0;32m    107\u001b[0m         \u001b[1;31m# Sources\u001b[0m\u001b[1;33m\u001b[0m\u001b[1;33m\u001b[0m\u001b[1;33m\u001b[0m\u001b[0m\n",
      "\u001b[1;31mValueError\u001b[0m: cannot mix country/category param with sources param."
     ]
    }
   ],
   "source": [
    "top_headlines = newsapi.get_top_headlines(q='bitcoin',\n",
    "                                          sources='bbc-news,the-verge',\n",
    "                                          category='business',\n",
    "                                          language='en',\n",
    "                                          country='us')\n",
    "\n",
    "# /v2/everything\n",
    "all_articles = newsapi.get_everything(q='bitcoin',\n",
    "                                      sources='bbc-news,the-verge',\n",
    "                                      domains='bbc.co.uk,techcrunch.com',\n",
    "                                      from_param='2017-12-01',\n",
    "                                      to='2017-12-12',\n",
    "                                      language='en',\n",
    "                                      sort_by='relevancy',\n",
    "                                      page=2)\n",
    "\n",
    "# /v2/top-headlines/sources\n",
    "sources = newsapi.get_sources()"
   ]
  },
  {
   "cell_type": "code",
   "execution_count": null,
   "id": "7f652beb",
   "metadata": {},
   "outputs": [],
   "source": []
  },
  {
   "cell_type": "code",
   "execution_count": null,
   "id": "b6f1718d",
   "metadata": {},
   "outputs": [],
   "source": []
  },
  {
   "cell_type": "code",
   "execution_count": 6,
   "id": "acc182b0",
   "metadata": {},
   "outputs": [],
   "source": [
    "import pycountry"
   ]
  },
  {
   "cell_type": "code",
   "execution_count": 7,
   "id": "df4e68b0",
   "metadata": {},
   "outputs": [
    {
     "name": "stdout",
     "output_type": "stream",
     "text": [
      "Country: India\n"
     ]
    }
   ],
   "source": [
    "input_country = input(\"Country: \")\n",
    "input_countries = [f'{input_country.strip()}']\n",
    "countries = {}"
   ]
  },
  {
   "cell_type": "code",
   "execution_count": 16,
   "id": "ee0df8fa",
   "metadata": {},
   "outputs": [
    {
     "name": "stdout",
     "output_type": "stream",
     "text": [
      "India.com News: Xiaomi 11T Pro With 120W Fast Charging And Snapdragon 888 Launched In India, Everything You Need To Know.\n",
      "GSMArena.com News: Samsung Galaxy S22 launching on February 9, new report reveals - GSMArena.com news.\n",
      "Gadgets 360 News: Oppo Reno 7 5G, Reno 7 Pro 5G India Launch Confirmed to Be Soon.\n",
      "Times of India News: What Apple has to say on forcing users to upgrade to iOS 15.\n",
      "Business Insider India News: Instagram launches subscriptions to help creators monetise their content.\n",
      "GSMArena.com News: OnePlus might be working on a cheap Nord for India - GSMArena.com news.\n",
      "Moneycontrol News: What will Microsoft's Activision buy mean for the Indian gaming market?.\n",
      "News18: Amazon Republic Day Sale: Last-Minute Deals On Smartphones From Apple, Xiaomi And More.\n",
      "Zee News: Vivo Y10 & vivo Y10 t1 version budget smartphones quietly launched --Check price, specs and more.\n",
      "India Today News: Planning to trade in your Android phone for iPhone? You are in for a disappointment.\n",
      "The Verge News: Roku outage leads to frozen TVs and unresponsive devices.\n",
      "GSMArena.com News: Global Xiaomi 12 model passes through Geekbench with 8GB of RAM - GSMArena.com news.\n",
      "GSMArena.com News: The iPhone SE+ 5G will become available in late April or early May, claims analyst - GSMArena.com news.\n",
      "TechCrunch News: Google Play Games for PC, which brings Android games to Windows, enters beta testing.\n",
      "Polygon News: Developer of unrelated Worldle app donates proceeds to charity.\n",
      "GSMArena.com News: Apple is working on a fix for critical Safari security flaw - GSMArena.com news.\n",
      "SlashGear News: Oculus Quest v37 update adds unexpected Apple support.\n",
      "Kotaku News: Pokémon Legends: Arceus’ New Monsters Might Have Already Leaked.\n",
      "The Verge News: Google will make free ‘legacy’ G Suite accounts pay for its office apps starting in July.\n",
      "Nieman Journalism Lab at Harvard News: How newsrooms are experimenting with Twitter Spaces » Nieman Journalism Lab.\n"
     ]
    }
   ],
   "source": [
    "for country in pycountry.countries:\n",
    "    countries[country.name] = country.alpha_2\n",
    "codes = [countries.get(country.title(), 'Unknown code') for country in input_countries]\n",
    "ch = \"Technology\"\n",
    "top_headlines = newsapi.get_top_headlines(category=f'{ch.lower()}', language='en', country=f'{codes[0].lower()}')\n",
    "Headlines = top_headlines['articles']\n",
    "if Headlines:\n",
    "    for articles in Headlines:\n",
    "        b = articles['title'][::-1].index(\"-\")\n",
    "        if \"news\" in (articles['title'][-b+1:]).lower():\n",
    "            print(f\"{articles['title'][-b+1:]}: {articles['title'][:-b-2]}.\")\n",
    "        else:\n",
    "            print(f\"{articles['title'][-b+1:]} News: {articles['title'][:-b-2]}.\")\n",
    "else:\n",
    "    print(f\"Sorry no articles found for {input_country}, Something Wrong!!!\")\n",
    "    exit()\n"
   ]
  },
  {
   "cell_type": "code",
   "execution_count": null,
   "id": "0af06f8b",
   "metadata": {},
   "outputs": [],
   "source": []
  },
  {
   "cell_type": "code",
   "execution_count": null,
   "id": "f60da3d4",
   "metadata": {},
   "outputs": [],
   "source": []
  },
  {
   "cell_type": "code",
   "execution_count": null,
   "id": "36d3bce5",
   "metadata": {},
   "outputs": [],
   "source": []
  },
  {
   "cell_type": "code",
   "execution_count": null,
   "id": "08f021cb",
   "metadata": {},
   "outputs": [],
   "source": []
  },
  {
   "cell_type": "code",
   "execution_count": null,
   "id": "f5121806",
   "metadata": {},
   "outputs": [],
   "source": []
  }
 ],
 "metadata": {
  "kernelspec": {
   "display_name": "Python 3 (ipykernel)",
   "language": "python",
   "name": "python3"
  },
  "language_info": {
   "codemirror_mode": {
    "name": "ipython",
    "version": 3
   },
   "file_extension": ".py",
   "mimetype": "text/x-python",
   "name": "python",
   "nbconvert_exporter": "python",
   "pygments_lexer": "ipython3",
   "version": "3.9.6"
  }
 },
 "nbformat": 4,
 "nbformat_minor": 5
}
