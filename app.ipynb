{
 "cells": [
  {
   "cell_type": "code",
   "execution_count": 1,
   "id": "003b4356",
   "metadata": {},
   "outputs": [],
   "source": [
    "from flask import Flask, render_template, request, url_for\n",
    "import pickle"
   ]
  },
  {
   "cell_type": "code",
   "execution_count": 2,
   "id": "652a4e76",
   "metadata": {},
   "outputs": [],
   "source": [
    "filename = 'rfc_model.pkl'\n",
    "classifier = pickle.load(open(filename, 'rb'))\n",
    "cv = pickle.load(open('cv-transform.pkl','rb'))\n",
    "app = Flask(__name__)"
   ]
  },
  {
   "cell_type": "code",
   "execution_count": 3,
   "id": "cd0fe226",
   "metadata": {},
   "outputs": [],
   "source": [
    "@app.route(\"/\", endpoint='func1')\n",
    "def main_page():\n",
    "    return render_template('home.html')\n",
    "\n",
    "@app.route(\"/news_page\", endpoint='func3')\n",
    "def news():\n",
    "    return render_template('news.html')\n",
    "\n",
    "@app.route(\"/contact_page\", endpoint='func4')\n",
    "def contact():\n",
    "    return render_template('contact.html')\n",
    "    \n",
    "@app.route(\"/predict\", methods = ['POST', 'GET'], endpoint='func2')\n",
    "def predict():\n",
    "    if request.method == 'POST':\n",
    "        n = request.form['news']\n",
    "        data = [n]\n",
    "        vect = cv.transform(data).toarray()\n",
    "        my_prediction = classifier.predict(vect)\n",
    "        return render_template('predicted.html', prediction = my_prediction)"
   ]
  },
  {
   "cell_type": "code",
   "execution_count": null,
   "id": "339e39df",
   "metadata": {
    "scrolled": true
   },
   "outputs": [
    {
     "name": "stdout",
     "output_type": "stream",
     "text": [
      " * Serving Flask app '__main__' (lazy loading)\n",
      " * Environment: production\n",
      "   WARNING: This is a development server. Do not use it in a production deployment.\n",
      "   Use a production WSGI server instead.\n",
      " * Debug mode: off\n"
     ]
    },
    {
     "name": "stderr",
     "output_type": "stream",
     "text": [
      " * Running on http://127.0.0.1:5000/ (Press CTRL+C to quit)\n",
      "127.0.0.1 - - [23/Feb/2022 12:43:11] \"GET / HTTP/1.1\" 200 -\n",
      "127.0.0.1 - - [23/Feb/2022 12:43:11] \"GET /static/fake.css HTTP/1.1\" 304 -\n",
      "127.0.0.1 - - [23/Feb/2022 12:43:11] \"GET /static/fake-jobs.jpg HTTP/1.1\" 304 -\n",
      "127.0.0.1 - - [23/Feb/2022 12:43:36] \"POST /predict HTTP/1.1\" 200 -\n",
      "127.0.0.1 - - [23/Feb/2022 12:43:36] \"GET /static/fake.css HTTP/1.1\" 304 -\n",
      "127.0.0.1 - - [23/Feb/2022 12:43:41] \"GET / HTTP/1.1\" 200 -\n"
     ]
    }
   ],
   "source": [
    "if __name__ ==  \"__main__\":\n",
    "    app.run()"
   ]
  },
  {
   "cell_type": "code",
   "execution_count": null,
   "id": "ce58e113",
   "metadata": {},
   "outputs": [],
   "source": []
  },
  {
   "cell_type": "code",
   "execution_count": null,
   "id": "89510587",
   "metadata": {},
   "outputs": [],
   "source": []
  },
  {
   "cell_type": "code",
   "execution_count": null,
   "id": "35293398",
   "metadata": {},
   "outputs": [],
   "source": []
  }
 ],
 "metadata": {
  "kernelspec": {
   "display_name": "Python 3 (ipykernel)",
   "language": "python",
   "name": "python3"
  },
  "language_info": {
   "codemirror_mode": {
    "name": "ipython",
    "version": 3
   },
   "file_extension": ".py",
   "mimetype": "text/x-python",
   "name": "python",
   "nbconvert_exporter": "python",
   "pygments_lexer": "ipython3",
   "version": "3.9.6"
  }
 },
 "nbformat": 4,
 "nbformat_minor": 5
}
